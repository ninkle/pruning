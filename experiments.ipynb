{
 "cells": [
  {
   "cell_type": "code",
   "execution_count": 46,
   "metadata": {},
   "outputs": [],
   "source": [
    "import os\n",
    "os.environ['TF_CPP_MIN_LOG_LEVEL'] = '3' "
   ]
  },
  {
   "cell_type": "code",
   "execution_count": 47,
   "metadata": {},
   "outputs": [],
   "source": [
    "import tensorflow as tf\n",
    "import tensorflow.contrib.eager as tfe\n",
    "import pickle\n",
    "import matplotlib.pyplot as plt\n",
    "import seaborn as sns\n",
    "from pruning.model import Model\n",
    "from pruning.data import MNISTLoader\n",
    "from pruning.train import Trainer\n",
    "\n",
    "tf.enable_eager_execution()"
   ]
  },
  {
   "cell_type": "code",
   "execution_count": 48,
   "metadata": {},
   "outputs": [],
   "source": [
    "with open(\"results.pickle\", 'rb') as f:\n",
    "    results = pickle.load(f)"
   ]
  },
  {
   "cell_type": "code",
   "execution_count": 49,
   "metadata": {},
   "outputs": [],
   "source": [
    "k_vals = [0.0, .25, .50, .60, .70, .80, .90, .95, .97, .99]"
   ]
  },
  {
   "cell_type": "code",
   "execution_count": 50,
   "metadata": {},
   "outputs": [
    {
     "data": {
      "text/plain": [
       "[(0.0, (0.9506789, 0.9506789)),\n",
       " (0.25, (0.9504792, 0.8591254)),\n",
       " (0.5, (0.9504792, 0.8591254)),\n",
       " (0.6, (0.94209266, 0.8573283)),\n",
       " (0.7, (0.9318091, 0.85722846)),\n",
       " (0.8, (0.8401558, 0.7556909)),\n",
       " (0.9, (0.7822484, 0.4368011)),\n",
       " (0.95, (0.70477235, 0.18360624)),\n",
       " (0.97, (0.454373, 0.15864617)),\n",
       " (0.99, (0.22603834, 0.175619))]"
      ]
     },
     "execution_count": 50,
     "metadata": {},
     "output_type": "execute_result"
    }
   ],
   "source": [
    "# preview accuracies against % pruned\n",
    "# format: (k, (weight_acc, unit_acc))\n",
    "list(zip(k_vals, zip(results[\"weight_accs\"], results[\"unit_accs\"])))"
   ]
  },
  {
   "cell_type": "code",
   "execution_count": 51,
   "metadata": {},
   "outputs": [
    {
     "data": {
      "image/png": "[encoded data removed]",
      "text/plain": [
       "<Figure size 432x288 with 1 Axes>"
      ]
     },
     "metadata": {
      "needs_background": "light"
     },
     "output_type": "display_data"
    }
   ],
   "source": [
    "# display accuracies on val set\n",
    "plt.title(\"Accuracy vs. % Pruned\")\n",
    "plt.ylabel(\"Accuracy\")\n",
    "plt.xlabel(\"% Pruned\")\n",
    "plt.plot(k_vals, [results[\"val_acc\"] for i in range(len(results[\"weight_accs\"]))], \"--g\")\n",
    "plt.plot(k_vals, results[\"weight_accs\"])\n",
    "plt.plot(k_vals, results[\"unit_accs\"])\n",
    "plt.legend([\"unpruned\", \"weight\", \"unit\"], loc='lower left')\n",
    "\n",
    "plt.show()"
   ]
  },
  {
   "cell_type": "markdown",
   "metadata": {},
   "source": [
    "### Remarks\n",
    "\n",
    "As we can see from the numerical and visual displays (cells 5 and 6, respectively) of our networks performance degradation, it seems as though only a relatively small subset (somewhere in the range of 25%-50%) of our networks weights are doing the bulk of its work, suggesting massive overparametrization in the network (surprise).\n",
    "\n",
    "Pruning on the weight level outperforms pruning on the unit level wrt to model accuracy, as weight-level pruning begets a more fine-grained pruning approach, despite pruning the exact same number of weights.\n",
    "\n",
    "In terms of optimizing on performance, I noticed that TensorFlow supports a variety of sparse matrix operations, which I imagine would speed up training/inference on a pruned network."
   ]
  }
 ],
 "metadata": {
  "kernelspec": {
   "display_name": "Python (pruning)",
   "language": "python",
   "name": "pruning"
  },
  "language_info": {
   "codemirror_mode": {
    "name": "ipython",
    "version": 3
   },
   "file_extension": ".py",
   "mimetype": "text/x-python",
   "name": "python",
   "nbconvert_exporter": "python",
   "pygments_lexer": "ipython3",
   "version": "3.6.7"
  }
 },
 "nbformat": 4,
 "nbformat_minor": 2
}
